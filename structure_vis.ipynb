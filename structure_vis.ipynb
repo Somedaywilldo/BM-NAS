{
 "cells": [
  {
   "cell_type": "code",
   "execution_count": 1,
   "id": "dba0a5b7",
   "metadata": {},
   "outputs": [],
   "source": [
    "import os\n",
    "import sys\n",
    "import time\n",
    "import glob\n",
    "import numpy as np\n",
    "import torch\n",
    "import logging\n",
    "import argparse\n",
    "from IPython import embed\n",
    "\n",
    "from models.search.darts.visualize import plot"
   ]
  },
  {
   "cell_type": "code",
   "execution_count": 2,
   "id": "7144a1c9",
   "metadata": {},
   "outputs": [],
   "source": [
    "def parse_args():\n",
    "    parser = argparse.ArgumentParser(description='Modality optimization.')\n",
    "\n",
    "    parser.add_argument('--seed', type=int, default=2, help='random seed')\n",
    "\n",
    "    parser.add_argument('--checkpointdir', type=str, help='output base dir',\n",
    "                        default='checkpoints/ntu')\n",
    "    parser.add_argument('--datadir', type=str, help='data directory',\n",
    "                        default='BM-NAS_dataset/NTU/')\n",
    "\n",
    "    parser.add_argument('--ske_cp', type=str, help='Skeleton net checkpoint (assuming is contained in checkpointdir)',\n",
    "                        default='skeleton_32frames_85.24.checkpoint')\n",
    "    parser.add_argument('--rgb_cp', type=str, help='RGB net checkpoint (assuming is contained in checkpointdir)',\n",
    "                        default='rgb_8frames_83.91.checkpoint')\n",
    "\n",
    "    # args for darts\n",
    "    parser.add_argument('--arch_learning_rate', type=float, default=3e-4, help='learning rate for arch encoding')\n",
    "    parser.add_argument('--arch_weight_decay', type=float, default=1e-3, help='weight decay for arch encoding')\n",
    "    \n",
    "\n",
    "    parser.add_argument('--weight_decay', type=float, default=1e-4, help='weight decay')\n",
    "    parser.add_argument('--num_input_nodes', type=int, help='cell input', default=8)\n",
    "    parser.add_argument('--num_keep_edges', type=int, help='cell step connect', default=2)\n",
    "    parser.add_argument('--multiplier', type=int, help='cell output concat', default=4)\n",
    "    parser.add_argument('--steps', type=int, help='cell steps', default=4)\n",
    "    \n",
    "    parser.add_argument('--node_multiplier', type=int, help='inner node output concat', default=1)\n",
    "    parser.add_argument('--node_steps', type=int, help='inner node steps', default=2)\n",
    "    \n",
    "    # for darts operations and inner representation size\n",
    "    parser.add_argument('--C', type=int, help='channels for conv layer', default=256)\n",
    "    parser.add_argument('--L', type=int, help='length after conv and pool', default=8)\n",
    "    # parser.add_argument('--num_heads', type=int, help='attention heads number', default=2)\n",
    "    parser.add_argument('--batchsize', type=int, help='batch size', default=96)\n",
    "    parser.add_argument('--parallel', help='Use several GPUs', action='store_true', default=False)\n",
    "    parser.add_argument('--modality', type=str, help='', default='both')\n",
    "\n",
    "\n",
    "    parser.add_argument('--small_dataset', action='store_true', default=False, help='dataset scale')\n",
    "\n",
    "    parser.add_argument('--num_outputs', type=int, help='output dimension', default=60)\n",
    "    parser.add_argument('--epochs', type=int, help='training epochs', default=80)\n",
    "    parser.add_argument('--eta_max', type=float, help='eta max', default=3e-4)\n",
    "    parser.add_argument('--eta_min', type=float, help='eta min', default=1e-6)\n",
    "    parser.add_argument('--Ti', type=int, help='epochs Ti', default=1)\n",
    "    parser.add_argument('--Tm', type=int, help='epochs multiplier Tm', default=2)\n",
    "    parser.add_argument('--num_workers', type=int, help='Dataloader CPUS', default=8)\n",
    "\n",
    "    parser.add_argument(\"--drpt\", action=\"store\", default=0.2, dest=\"drpt\", type=float, help=\"dropout\")\n",
    "    parser.add_argument('--save', type=str, default='EXP', help='experiment name')\n",
    "\n",
    "    return parser.parse_args(\"\")"
   ]
  },
  {
   "cell_type": "code",
   "execution_count": 3,
   "id": "8a54ff6c",
   "metadata": {},
   "outputs": [],
   "source": [
    "args = parse_args()"
   ]
  },
  {
   "cell_type": "code",
   "execution_count": 4,
   "id": "2834ae40",
   "metadata": {},
   "outputs": [
    {
     "data": {
      "text/plain": [
       "Namespace(seed=2, checkpointdir='checkpoints/ntu', datadir='BM-NAS_dataset/NTU/', ske_cp='skeleton_32frames_85.24.checkpoint', rgb_cp='rgb_8frames_83.91.checkpoint', arch_learning_rate=0.0003, arch_weight_decay=0.001, weight_decay=0.0001, num_input_nodes=8, num_keep_edges=2, multiplier=4, steps=4, node_multiplier=1, node_steps=2, C=256, L=8, batchsize=96, parallel=False, modality='both', small_dataset=False, num_outputs=60, epochs=80, eta_max=0.0003, eta_min=1e-06, Ti=1, Tm=2, num_workers=8, drpt=0.2, save='EXP')"
      ]
     },
     "execution_count": 4,
     "metadata": {},
     "output_type": "execute_result"
    }
   ],
   "source": [
    "args"
   ]
  },
  {
   "cell_type": "code",
   "execution_count": 5,
   "id": "f6d18d2b",
   "metadata": {},
   "outputs": [],
   "source": [
    "task = 'NTU'"
   ]
  },
  {
   "cell_type": "code",
   "execution_count": 6,
   "id": "1ab3366b",
   "metadata": {},
   "outputs": [],
   "source": [
    "from collections import namedtuple\n",
    "\n",
    "Genotype = namedtuple('Genotype', 'edges steps concat')\n",
    "StepGenotype = namedtuple('StepGenotype', 'inner_edges inner_steps inner_concat')"
   ]
  },
  {
   "cell_type": "code",
   "execution_count": 7,
   "id": "6a2d929f",
   "metadata": {},
   "outputs": [],
   "source": [
    "genotype = Genotype(edges=[('skip', 2), ('skip', 7), ('skip', 2), ('skip', 3)], steps=[StepGenotype(inner_edges=[('skip', 0), ('skip', 1), ('skip', 2), ('skip', 0)], inner_steps=['LinearGLU', 'LinearGLU'], inner_concat=[2, 3]), StepGenotype(inner_edges=[('skip', 0), ('skip', 1), ('skip', 2), ('skip', 0)], inner_steps=['ScaleDotAttn', 'ScaleDotAttn'], inner_concat=[2, 3])], concat=[8, 9])"
   ]
  },
  {
   "cell_type": "code",
   "execution_count": 8,
   "id": "f032dff8",
   "metadata": {},
   "outputs": [],
   "source": [
    "file_name = 'structure_vis_example'"
   ]
  },
  {
   "cell_type": "code",
   "execution_count": 9,
   "id": "66bfada8",
   "metadata": {},
   "outputs": [],
   "source": [
    "plot(genotype, file_name, args, task)"
   ]
  },
  {
   "cell_type": "code",
   "execution_count": null,
   "id": "e92d6d8a",
   "metadata": {},
   "outputs": [],
   "source": []
  }
 ],
 "metadata": {
  "kernelspec": {
   "display_name": "Python 3 (ipykernel)",
   "language": "python",
   "name": "python3"
  },
  "language_info": {
   "codemirror_mode": {
    "name": "ipython",
    "version": 3
   },
   "file_extension": ".py",
   "mimetype": "text/x-python",
   "name": "python",
   "nbconvert_exporter": "python",
   "pygments_lexer": "ipython3",
   "version": "3.9.9"
  }
 },
 "nbformat": 4,
 "nbformat_minor": 5
}
