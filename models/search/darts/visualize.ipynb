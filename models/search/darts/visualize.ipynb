{
 "cells": [
  {
   "cell_type": "code",
   "execution_count": 11,
   "metadata": {},
   "outputs": [],
   "source": [
    "import sys\n",
    "from genotypes import *\n",
    "from graphviz import Digraph\n",
    "import argparse"
   ]
  },
  {
   "cell_type": "code",
   "execution_count": 12,
   "metadata": {
    "code_folding": [
     0
    ]
   },
   "outputs": [],
   "source": [
    "def parse_args():\n",
    "    parser = argparse.ArgumentParser(description='Modality optimization.')\n",
    "    parser.add_argument('--multiplier', type=int, help='cell output concat', default=4)\n",
    "    parser.add_argument('--steps', type=int, help='cell steps', default=4)\n",
    "    parser.add_argument('--num_input_nodes', type=int, help='cell input', default=8)\n",
    "    parser.add_argument('--num_keep_edges', type=int, help='cell step connect', default=2)\n",
    "    parser.add_argument('--node_multiplier', type=int, help='inner node output concat', default=1)\n",
    "    parser.add_argument('--node_steps', type=int, help='inner node steps', default=2)\n",
    "    return parser.parse_args(\"\")"
   ]
  },
  {
   "cell_type": "code",
   "execution_count": 13,
   "metadata": {},
   "outputs": [],
   "source": [
    "args = parse_args()"
   ]
  },
  {
   "cell_type": "code",
   "execution_count": 14,
   "metadata": {},
   "outputs": [
    {
     "data": {
      "text/plain": [
       "Namespace(multiplier=4, steps=4, num_input_nodes=8, num_keep_edges=2, node_multiplier=1, node_steps=2)"
      ]
     },
     "execution_count": 14,
     "metadata": {},
     "output_type": "execute_result"
    }
   ],
   "source": [
    "args"
   ]
  },
  {
   "cell_type": "code",
   "execution_count": 15,
   "metadata": {
    "code_folding": [
     0
    ]
   },
   "outputs": [],
   "source": [
    "new_op_dict = {\n",
    "    'sum': 'Sum', \n",
    "    'scale_dot_attn': 'ScaleDotAttn',\n",
    "    'cat_conv_glu': 'LinearGLU',\n",
    "    'cat_conv_relu': 'ConcatFC'\n",
    "}"
   ]
  },
  {
   "cell_type": "code",
   "execution_count": 16,
   "metadata": {
    "code_folding": [
     0
    ]
   },
   "outputs": [],
   "source": [
    "def change_to_new_op(inner_steps):\n",
    "    ret = []\n",
    "    for op in inner_steps:\n",
    "        ret.append(new_op_dict[op])\n",
    "    return ret"
   ]
  },
  {
   "cell_type": "code",
   "execution_count": 17,
   "metadata": {
    "code_folding": [
     0
    ]
   },
   "outputs": [],
   "source": [
    "def change_to_new_genotype(genotype):\n",
    "    new_edges = genotype.edges\n",
    "    new_steps = []\n",
    "    new_concat = genotype.concat\n",
    "    for step in genotype.steps:\n",
    "        new_inner_edges = step.inner_edges    \n",
    "        new_inner_steps = change_to_new_op(step.inner_steps)\n",
    "        new_inner_concat = step.inner_concat\n",
    "        new_step = StepGenotype(inner_edges = new_inner_edges,\n",
    "                                inner_steps = new_inner_steps,\n",
    "                                inner_concat = new_inner_concat)\n",
    "        new_steps.append(new_step)\n",
    "    new_genotype = Genotype(edges = new_edges, steps = new_steps, concat = new_concat)\n",
    "    return new_genotype"
   ]
  },
  {
   "cell_type": "code",
   "execution_count": 8,
   "metadata": {},
   "outputs": [],
   "source": [
    "def plot(genotype, filename, args, task=None):\n",
    "    \n",
    "    if genotype == None:\n",
    "        return \n",
    "\n",
    "    multiplier = args.multiplier\n",
    "    num_input_nodes = args.num_input_nodes\n",
    "    num_keep_edges = args.num_keep_edges\n",
    "    \n",
    "    node_steps = args.node_steps\n",
    "    node_multiplier = args.node_multiplier\n",
    "    \n",
    "    g = Digraph(\n",
    "            format='pdf',\n",
    "            edge_attr=dict(fontsize='20', fontname=\"times\", penwidth='1.5'),\n",
    "            node_attr=dict(style='rounded, filled', shape='rect', align='center', \n",
    "                           fontsize='20', height='0.5', width='0.5', penwidth='2', \n",
    "                           fontname=\"helvetica\"),\n",
    "            engine='dot')\n",
    "#     g.attr(style='rounded, filled', color='red')\n",
    "#     g.body.extend(['rankdir=LR'])\n",
    "    g.attr(rankdir='LR')\n",
    "\n",
    "    input_nodes = []\n",
    "    input_nodes_A = []\n",
    "    input_nodes_B = []\n",
    "    \n",
    "    nc = Digraph(node_attr={'shape': 'box'})\n",
    "    nc.attr(rankdir='BT')\n",
    "    nc.attr(rank='same')\n",
    "#     nc.attr(style='rounded, filled', color='red')\n",
    "#                    fontsize='20', align='center')\n",
    "#     with nc.subgraph(name='cluster_input_features', node_attr={'shape': 'box'}) as c:\n",
    "#         c.attr(style='rounded, filled', color='red', \n",
    "#                    fontsize='20', align='center')\n",
    "#         c.attr(rankdir='BT')\n",
    "#         c.attr(rank='same')\n",
    "#         c.attr(constraint='false')\n",
    "    assert len(genotype.edges) % num_keep_edges == 0\n",
    "    steps = len(genotype.edges) // num_keep_edges\n",
    "    \n",
    "    with g.subgraph() as nothing:\n",
    "        c = nc\n",
    "        \n",
    "        input_nodes_A = []\n",
    "        input_nodes_B = []\n",
    "        \n",
    "        with c.subgraph(name='cluster_video_features', node_attr={'shape': 'box'}) as ca:\n",
    "            ca.attr(style='rounded, filled', color='lightgrey', \n",
    "                           fontsize='20', align='center')\n",
    "\n",
    "            input_nodes_A = [\"Video_1\", \"Video_2\", \"Video_3\", \"Video_4\"]\n",
    "            if task == 'mmimdb':\n",
    "                input_nodes_A = [\"Image_1\", \"Image_2\", \"Image_3\", \"Image_4\"]\n",
    "            \n",
    "            if task == 'nvgesture' or task == 'ego':\n",
    "                input_nodes_A = [\"RGB_1\", \"RGB_2\", \"RGB_3\", \"RGB_4\"]\n",
    "                \n",
    "            for input_node in input_nodes_A:\n",
    "                ca.node(input_node, fillcolor='lightskyblue1')\n",
    "            \n",
    "            for i in range(len(input_nodes_A)-1):\n",
    "                c.edge(input_nodes_A[i], input_nodes_A[i+1], label=None)\n",
    "            \n",
    "            \n",
    "    \n",
    "        with c.subgraph(name='cluster_skeleton_features', node_attr={'shape': 'box'}) as cb:\n",
    "            cb.attr(style='rounded, filled', color='lightgrey', \n",
    "                           fontsize='20', align='center')\n",
    "\n",
    "            input_nodes_B = [\"Skeleton_1\", \"Skeleton_2\", \"Skeleton_3\", \"Skeleton_4\"]\n",
    "            if task == 'mmimdb':\n",
    "                input_nodes_B = [\"Text_1\", \"Text_2\"]\n",
    "            \n",
    "            if task == 'nvgesture' or task == 'ego':\n",
    "                input_nodes_B = [\"Depth_1\", \"Depth_2\", \"Depth_3\", \"Depth_4\"]\n",
    "\n",
    "            for input_node in input_nodes_B:\n",
    "                cb.node(input_node, fillcolor='darkolivegreen1')\n",
    "            \n",
    "            for i in range(len(input_nodes_B)-1):\n",
    "                c.edge(input_nodes_B[i], input_nodes_B[i+1], label=None)\n",
    "                \n",
    "#                 for j in range(steps):        \n",
    "#                     node_x_name = \"X_C{}\".format(j)\n",
    "#                     node_y_name = \"Y_C{}\".format(j)\n",
    "# #                     g.edge(input_nodes_B[i], node_y_name, style='invis')\n",
    "#                     g.edge(input_nodes_B[i], node_x_name, style='invis')\n",
    "            \n",
    "        c.edge(input_nodes_B[-1], input_nodes_A[0], style='invis')\n",
    "        \n",
    "    g.subgraph(nc)\n",
    "    \n",
    "    input_nodes = input_nodes_A + input_nodes_B\n",
    "    assert len(input_nodes) == num_input_nodes\n",
    "\n",
    "    node_names = [] \n",
    "    node_names += input_nodes\n",
    "\n",
    "    for i in range(steps):\n",
    "        # step_op = genotype.steps[i][0]\n",
    "        # step_node_name = \"{}_{}\".format(i, step_op)\n",
    "        node_z_name = \"Z_C{}\".format(i+1)\n",
    "        node_names.append(node_z_name)\n",
    "    \n",
    "    for i in range(steps-1):        \n",
    "        node_x_name = \"X_C{}\".format(i+2)\n",
    "        node_y_name = \"Y_C{}\".format(i+1)\n",
    "#         g.edge(node_x_name, node_y_name, style='invis')\n",
    "#         g.edge(node_y_name, node_x_name, style='invis')\n",
    "\n",
    "    \n",
    "#     for i in genotype.concat[0:-1]:\n",
    "# #         print(i)\n",
    "#         g.edge(node_names[i+1], node_names[i], style='invis')\n",
    "        \n",
    "    for i in range(steps):\n",
    "        # step_op = genotype.steps[i][0]\n",
    "        # step_node_name = \"{}_{}\".format(i, step_op)\n",
    "        step_node_name = \"cluster_step_{}\".format(i)\n",
    "        step_gene = genotype.steps[i]\n",
    "        \n",
    "        node_x_name = \"X_C{}\".format(i+1)\n",
    "        node_y_name = \"Y_C{}\".format(i+1)\n",
    "        node_z_name = \"Z_C{}\".format(i+1)\n",
    "\n",
    "        with g.subgraph(name=step_node_name, node_attr={'shape': 'box'}) as c:\n",
    "            c.attr(style='rounded, filled', color='tan1', \n",
    "                   fontsize='20', align='center')\n",
    "            c.node_attr.update(style='rounded, filled')\n",
    "            \n",
    "            inner_node_names = [node_x_name, node_y_name]\n",
    "            for j in range(node_steps):    \n",
    "#                 print(i, j)\n",
    "#                 print(step_gene)\n",
    "                inner_step_name = \"C{}_S{}\\n{}\".format(i+1, j+1, step_gene.inner_steps[j]) \n",
    "                inner_node_names.append(inner_step_name)\n",
    "            \n",
    "            with c.subgraph() as ic:\n",
    "#                 ic.attr(rankdir='BT')\n",
    "#                 ic.attr(rank='same')\n",
    "                for inner_node_name in inner_node_names:\n",
    "                    if inner_node_name != node_x_name and inner_node_name != node_y_name:\n",
    "                        ic.node(inner_node_name, fillcolor='khaki1')\n",
    "            \n",
    "            c.node(node_x_name, fillcolor='maroon2')\n",
    "            c.node(node_y_name, fillcolor='green3')\n",
    "            c.node(node_z_name, fillcolor='purple')\n",
    "            \n",
    "#             c.edge(input_nodes_B[-1], node_x_name, style='invis')\n",
    "#             c.edge(input_nodes_B[-1], node_y_name, style='invis')\n",
    "#             for in_A in input_nodes_A:\n",
    "#                 c.edge(in_A, node_x_name, style='invis')\n",
    "#                 c.edge(in_A, node_y_name, style='invis')\n",
    "            \n",
    "            for in_B in input_nodes_B:\n",
    "                c.edge(in_B, node_x_name, style='invis')\n",
    "                c.edge(in_B, node_y_name, style='invis')\n",
    "\n",
    "            # print(inner_node_names)\n",
    "            for j in range(node_steps):\n",
    "                x = step_gene.inner_edges[2*j][1]\n",
    "                x_op = step_gene.inner_edges[2*j][0]\n",
    "                y = step_gene.inner_edges[2*j+1][1]\n",
    "                y_op = step_gene.inner_edges[2*j+1][0]\n",
    "                # print(j, x, x_op, y, y_op)\n",
    "                # c.edge(inner_node_names[x], inner_node_names[2+j], label=x_op)\n",
    "                # c.edge(inner_node_names[y], inner_node_names[2+j], label=y_op)\n",
    "                c.edge(inner_node_names[x], inner_node_names[2+j], label=None)\n",
    "                c.edge(inner_node_names[y], inner_node_names[2+j], label=None)\n",
    "                \n",
    "#                 c.edge(inner_node_names[2+j], inner_node_names[x], label=None)\n",
    "#                 c.edge(inner_node_names[2+j], inner_node_names[y], label=None)\n",
    "            \n",
    "            for j in range(args.node_multiplier):\n",
    "                # c.edge(inner_node_names[-(j+1)], node_z_name, label='skip')\n",
    "                c.edge(inner_node_names[-(j+1)], node_z_name, label=None)\n",
    "            # skip connection\n",
    "#             c.edge(node_x_name, node_z_name, label=None)\n",
    "        \n",
    "        edge_x_op = genotype.edges[2*i][0]\n",
    "        edge_x_from = node_names[genotype.edges[2*i][1]]\n",
    "        edge_x_to = node_x_name\n",
    "        # g.edge(edge_x_from, edge_x_to, label=edge_x_op)\n",
    "        g.edge(edge_x_from, edge_x_to, label=None, color=\"blue\")\n",
    "\n",
    "        edge_y_op = genotype.edges[2*i+1][0]\n",
    "        edge_y_from = node_names[genotype.edges[2*i+1][1]]\n",
    "        edge_y_to = node_y_name\n",
    "        # g.edge(edge_y_from, edge_y_to, label=edge_y_op)\n",
    "        g.edge(edge_y_from, edge_y_to, label=None, color=\"blue\")\n",
    "    \n",
    "    g.node(\"Reduction\\nOutput\", fillcolor='grey91')\n",
    "    \n",
    "\n",
    "    for i in genotype.concat:\n",
    "        g.edge(node_names[i], \"Reduction\\nOutput\", color=\"blue\")\n",
    "\n",
    "    g.render(filename, view=True)"
   ]
  },
  {
   "cell_type": "code",
   "execution_count": 9,
   "metadata": {
    "code_folding": [
     0
    ]
   },
   "outputs": [],
   "source": [
    "# # best mmimd model\n",
    "# args.steps=2\n",
    "# args.multiplier=2\n",
    "# args.num_input_nodes=6\n",
    "# args.num_keep_edges=2\n",
    "# args.node_multiplier=2 \n",
    "# args.node_steps=1\n",
    "\n",
    "# task = 'mmimdb'\n",
    "# genotype = Genotype(edges=[('skip', 2), ('skip', 4), ('skip', 4), ('skip', 6)], steps=[StepGenotype(inner_edges=[('skip', 1), ('skip', 0)], inner_steps=['cat_conv_relu'], inner_concat=[2]), StepGenotype(inner_edges=[('skip', 1), ('skip', 0)], inner_steps=['cat_conv_glu'], inner_concat=[2])], concat=[6, 7])\n",
    "# new_genotype = change_to_new_genotype(genotype)\n",
    "# model_name = 'best_mmimdb_model'\n",
    "# plot(new_genotype, \"/Users/v_yinyihang/Desktop/CVPR2021-MultiModalNas/sup_figures/\" + model_name, args, task)"
   ]
  },
  {
   "cell_type": "code",
   "execution_count": 10,
   "metadata": {
    "code_folding": [
     0
    ]
   },
   "outputs": [],
   "source": [
    "# # best ntu model\n",
    "# args.steps=2\n",
    "# args.multiplier=2\n",
    "# args.num_input_nodes=8\n",
    "# args.num_keep_edges=2\n",
    "# args.node_multiplier=2 \n",
    "# args.node_steps=2\n",
    "\n",
    "# genotype = Genotype(edges=[('skip', 2), ('skip', 7), ('skip', 2), ('skip', 3)], steps=[StepGenotype(inner_edges=[('skip', 0), ('skip', 1), ('skip', 2), ('skip', 0)], inner_steps=['cat_conv_glu', 'cat_conv_glu'], inner_concat=[2, 3]), StepGenotype(inner_edges=[('skip', 0), ('skip', 1), ('skip', 2), ('skip', 0)], inner_steps=['scale_dot_attn', 'scale_dot_attn'], inner_concat=[2, 3])], concat=[8, 9])\n",
    "# new_genotype = change_to_new_genotype(genotype)\n",
    "# model_name = 'best_ntu_model'\n",
    "# plot(new_genotype, \"/Users/v_yinyihang/Desktop/CVPR2021-MultiModalNas/sup_figures/\" + model_name, args, 'ntu')"
   ]
  },
  {
   "cell_type": "code",
   "execution_count": 110,
   "metadata": {
    "code_folding": [
     0
    ]
   },
   "outputs": [],
   "source": [
    "# # best ego model\n",
    "# args.steps=2\n",
    "# args.multiplier=2\n",
    "# args.num_input_nodes=8\n",
    "# args.num_keep_edges=2\n",
    "# args.node_multiplier=3 \n",
    "# args.node_steps=3\n",
    "\n",
    "# task = 'ego'\n",
    "# genotype = Genotype(edges=[('skip', 1), ('skip', 5), ('skip', 4), ('skip', 5)], steps=[StepGenotype(inner_edges=[('skip', 0), ('skip', 1), ('skip', 1), ('skip', 0), ('skip', 3), ('skip', 2)], inner_steps=['sum', 'sum', 'sum'], inner_concat=[2, 3, 4]), StepGenotype(inner_edges=[('skip', 0), ('skip', 1), ('skip', 1), ('skip', 0), ('skip', 2), ('skip', 3)], inner_steps=['sum', 'sum', 'sum'], inner_concat=[2, 3, 4])], concat=[8, 9])\n",
    "# new_genotype = change_to_new_genotype(genotype)\n",
    "# model_name = 'best_ego_model'\n",
    "# plot(new_genotype, \"/Users/v_yinyihang/Desktop/CVPR2021-MultiModalNas/sup_figures/\" + model_name, args, task)"
   ]
  },
  {
   "cell_type": "code",
   "execution_count": 111,
   "metadata": {
    "code_folding": [
     0
    ]
   },
   "outputs": [],
   "source": [
    "# # best ntu model\n",
    "# args.steps=2\n",
    "# args.multiplier=2\n",
    "# args.num_input_nodes=8\n",
    "# args.num_keep_edges=2\n",
    "# args.node_multiplier=2 \n",
    "# args.node_steps=2\n",
    "\n",
    "# genotype = Genotype(edges=[('skip', 2), ('skip', 7), ('skip', 2), ('skip', 3)], steps=[StepGenotype(inner_edges=[('skip', 0), ('skip', 1), ('skip', 2), ('skip', 0)], inner_steps=['cat_conv_glu', 'cat_conv_glu'], inner_concat=[2, 3]), StepGenotype(inner_edges=[('skip', 0), ('skip', 1), ('skip', 2), ('skip', 0)], inner_steps=['scale_dot_attn', 'scale_dot_attn'], inner_concat=[2, 3])], concat=[8, 9])\n",
    "# new_genotype = change_to_new_genotype(genotype)\n",
    "# model_name = 'ntu_config_1'\n",
    "# plot(new_genotype, \"/Users/v_yinyihang/Desktop/CVPR2021-MultiModalNas/sup_figures/\" + model_name, args, 'ntu')"
   ]
  },
  {
   "cell_type": "code",
   "execution_count": 112,
   "metadata": {
    "code_folding": [
     0
    ]
   },
   "outputs": [],
   "source": [
    "# # NTU TOP4 Settings\n",
    "# # config 1 == best_ntu_model\n",
    "# # config 2\n",
    "# args.steps=2\n",
    "# args.multiplier=2\n",
    "# args.num_input_nodes=8\n",
    "# args.num_keep_edges=2\n",
    "# args.node_multiplier=1 \n",
    "# args.node_steps=1\n",
    "\n",
    "# genotype = Genotype(edges=[('skip', 2), ('skip', 3), ('skip', 2), ('skip', 7)], steps=[StepGenotype(inner_edges=[('skip', 1), ('skip', 0)], inner_steps=['cat_conv_relu'], inner_concat=[2]), StepGenotype(inner_edges=[('skip', 0), ('skip', 1)], inner_steps=['cat_conv_relu'], inner_concat=[2])], concat=[8, 9])\n",
    "# new_genotype = change_to_new_genotype(genotype)\n",
    "# model_name = 'ntu_config_2'\n",
    "# plot(new_genotype, \"/Users/v_yinyihang/Desktop/CVPR2021-MultiModalNas/sup_figures/\" + model_name, args, 'ntu')"
   ]
  },
  {
   "cell_type": "code",
   "execution_count": 113,
   "metadata": {
    "code_folding": [
     0
    ]
   },
   "outputs": [],
   "source": [
    "# args.steps=4\n",
    "# args.multiplier=4\n",
    "# args.num_input_nodes=8\n",
    "# args.num_keep_edges=2\n",
    "# args.node_multiplier=2\n",
    "# args.node_steps=1\n",
    "\n",
    "# genotype = Genotype(edges=[('skip', 2), ('skip', 7), ('skip', 3), ('skip', 7)], steps=[StepGenotype(inner_edges=[('skip', 1), ('skip', 0), ('skip', 2), ('skip', 1)], inner_steps=['cat_conv_glu', 'scale_dot_attn'], inner_concat=[2, 3]), StepGenotype(inner_edges=[('skip', 0), ('skip', 1), ('skip', 2), ('skip', 0)], inner_steps=['scale_dot_attn', 'scale_dot_attn'], inner_concat=[2, 3])], concat=[8, 9])\n",
    "# new_genotype = change_to_new_genotype(genotype)\n",
    "# model_name = 'ntu_config_3'\n",
    "# plot(new_genotype, \"/Users/v_yinyihang/Desktop/CVPR2021-MultiModalNas/sup_figures/\" + model_name, args, 'ntu')"
   ]
  },
  {
   "cell_type": "code",
   "execution_count": 114,
   "metadata": {
    "code_folding": []
   },
   "outputs": [],
   "source": [
    "# args.steps=4\n",
    "# args.multiplier=4\n",
    "# args.num_input_nodes=8\n",
    "# args.num_keep_edges=2\n",
    "# args.node_multiplier=2\n",
    "# args.node_steps=2\n",
    "\n",
    "# genotype = Genotype(edges=[('skip', 2), ('skip', 3), ('skip', 2), ('skip', 7), ('skip', 2), ('skip', 5), ('skip', 2), ('skip', 8)], steps=[StepGenotype(inner_edges=[('skip', 0), ('skip', 1), ('skip', 1), ('skip', 0)], inner_steps=['sum', 'sum'], inner_concat=[3]), StepGenotype(inner_edges=[('skip', 1), ('skip', 0), ('skip', 1), ('skip', 0)], inner_steps=['cat_conv_relu', 'scale_dot_attn'], inner_concat=[3]), StepGenotype(inner_edges=[('skip', 0), ('skip', 1), ('skip', 0), ('skip', 1)], inner_steps=['cat_conv_relu', 'scale_dot_attn'], inner_concat=[3]), StepGenotype(inner_edges=[('skip', 1), ('skip', 0), ('skip', 0), ('skip', 1)], inner_steps=['sum', 'sum'], inner_concat=[3])], concat=[8, 9, 10, 11])\n",
    "# new_genotype = change_to_new_genotype(genotype)\n",
    "# model_name = 'ntu_config_4'\n",
    "# plot(new_genotype, \"/Users/v_yinyihang/Desktop/CVPR2021-MultiModalNas/sup_figures/\" + model_name, args, 'ntu')"
   ]
  },
  {
   "cell_type": "code",
   "execution_count": 115,
   "metadata": {
    "code_folding": [
     0
    ]
   },
   "outputs": [],
   "source": [
    "# # best ego model \n",
    "# # config 1\n",
    "# args.steps=2\n",
    "# args.multiplier=2\n",
    "# args.num_input_nodes=8\n",
    "# args.num_keep_edges=2\n",
    "# args.node_multiplier=3 \n",
    "# args.node_steps=3\n",
    "\n",
    "# task = 'ego'\n",
    "# genotype = Genotype(edges=[('skip', 1), ('skip', 5), ('skip', 4), ('skip', 5)], steps=[StepGenotype(inner_edges=[('skip', 0), ('skip', 1), ('skip', 1), ('skip', 0), ('skip', 3), ('skip', 2)], inner_steps=['sum', 'sum', 'sum'], inner_concat=[2, 3, 4]), StepGenotype(inner_edges=[('skip', 0), ('skip', 1), ('skip', 1), ('skip', 0), ('skip', 2), ('skip', 3)], inner_steps=['sum', 'sum', 'sum'], inner_concat=[2, 3, 4])], concat=[8, 9])\n",
    "# new_genotype = change_to_new_genotype(genotype)\n",
    "# model_name = 'ego_config_1'\n",
    "# plot(new_genotype, \"/Users/v_yinyihang/Desktop/CVPR2021-MultiModalNas/sup_figures/\" + model_name, args, task)"
   ]
  },
  {
   "cell_type": "code",
   "execution_count": 116,
   "metadata": {
    "code_folding": [
     0
    ]
   },
   "outputs": [],
   "source": [
    "# # best ego model \n",
    "# # config 2\n",
    "# args.steps=2\n",
    "# args.multiplier=2\n",
    "# args.num_input_nodes=8\n",
    "# args.num_keep_edges=2\n",
    "# args.node_multiplier=1 \n",
    "# args.node_steps=1\n",
    "\n",
    "# task = 'ego'\n",
    "# genotype = Genotype(edges=[('skip', 1), ('skip', 5), ('skip', 5), ('skip', 8)], steps=[StepGenotype(inner_edges=[('skip', 0), ('skip', 1)], inner_steps=['scale_dot_attn'], inner_concat=[2]), StepGenotype(inner_edges=[('skip', 1), ('skip', 0)], inner_steps=['scale_dot_attn'], inner_concat=[2])], concat=[8, 9])\n",
    "# new_genotype = change_to_new_genotype(genotype)\n",
    "# model_name = 'ego_config_2'\n",
    "# plot(new_genotype, \"/Users/v_yinyihang/Desktop/CVPR2021-MultiModalNas/sup_figures/\" + model_name, args, task)"
   ]
  },
  {
   "cell_type": "code",
   "execution_count": 30,
   "metadata": {
    "code_folding": [
     0
    ]
   },
   "outputs": [],
   "source": [
    "# # best ego model \n",
    "# # config 3\n",
    "# args.steps=2\n",
    "# args.multiplier=2\n",
    "# args.num_input_nodes=8\n",
    "# args.num_keep_edges=2\n",
    "# args.node_multiplier=4\n",
    "# args.node_steps=4\n",
    "\n",
    "# task = 'ego'\n",
    "# genotype = Genotype(edges=[('skip', 4), ('skip', 5), ('skip', 5), ('skip', 8)], steps=[StepGenotype(inner_edges=[('skip', 1), ('skip', 0), ('skip', 2), ('skip', 1), ('skip', 3), ('skip', 2), ('skip', 4), ('skip', 3)], inner_steps=['scale_dot_attn', 'scale_dot_attn', 'scale_dot_attn', 'cat_conv_glu'], inner_concat=[2, 3, 4, 5]), StepGenotype(inner_edges=[('skip', 1), ('skip', 0), ('skip', 2), ('skip', 0), ('skip', 2), ('skip', 0), ('skip', 3), ('skip', 2)], inner_steps=['scale_dot_attn', 'cat_conv_relu', 'cat_conv_relu', 'scale_dot_attn'], inner_concat=[2, 3, 4, 5])], concat=[8, 9])\n",
    "# new_genotype = change_to_new_genotype(genotype)\n",
    "# model_name = 'ego_config_3'\n",
    "# plot(new_genotype, \"/Users/v_yinyihang/Desktop/CVPR2021-MultiModalNas/sup_figures/\" + model_name, args, task)"
   ]
  },
  {
   "cell_type": "code",
   "execution_count": 31,
   "metadata": {
    "code_folding": [
     0
    ]
   },
   "outputs": [],
   "source": [
    "# # best ego model \n",
    "# # config 4\n",
    "# args.steps=3\n",
    "# args.multiplier=3\n",
    "# args.num_input_nodes=8\n",
    "# args.num_keep_edges=2\n",
    "# args.node_multiplier=2\n",
    "# args.node_steps=2\n",
    "\n",
    "# task = 'ego'\n",
    "# genotype = Genotype(edges=[('skip', 1), ('skip', 4), ('skip', 0), ('skip', 4), ('skip', 4), ('skip', 9)], steps=[StepGenotype(inner_edges=[('skip', 0), ('skip', 1), ('skip', 2), ('skip', 1)], inner_steps=['sum', 'sum'], inner_concat=[2, 3]), StepGenotype(inner_edges=[('skip', 0), ('skip', 1), ('skip', 2), ('skip', 0)], inner_steps=['cat_conv_relu', 'cat_conv_relu'], inner_concat=[2, 3]), StepGenotype(inner_edges=[('skip', 1), ('skip', 0), ('skip', 2), ('skip', 1)], inner_steps=['cat_conv_glu', 'cat_conv_relu'], inner_concat=[2, 3])], concat=[8, 9, 10])\n",
    "# new_genotype = change_to_new_genotype(genotype)\n",
    "# model_name = 'ego_config_4'\n",
    "# plot(new_genotype, \"/Users/v_yinyihang/Desktop/CVPR2021-MultiModalNas/sup_figures/\" + model_name, args, task)"
   ]
  },
  {
   "cell_type": "code",
   "execution_count": null,
   "metadata": {},
   "outputs": [],
   "source": []
  },
  {
   "cell_type": "code",
   "execution_count": 3,
   "metadata": {},
   "outputs": [],
   "source": [
    "a = Genotype(edges=[('skip', 2), ('skip', 7), ('skip', 2), ('skip', 3)], steps=[StepGenotype(inner_edges=[('skip', 0), ('skip', 1), ('skip', 2), ('skip', 0)], inner_steps=['LinearGLU', 'LinearGLU'], inner_concat=[2, 3]), StepGenotype(inner_edges=[('skip', 0), ('skip', 1), ('skip', 2), ('skip', 0)], inner_steps=['ScaleDotAttn', 'ScaleDotAttn'], inner_concat=[2, 3])], concat=[8, 9])"
   ]
  },
  {
   "cell_type": "code",
   "execution_count": 5,
   "metadata": {},
   "outputs": [],
   "source": [
    "import pickle"
   ]
  },
  {
   "cell_type": "code",
   "execution_count": 6,
   "metadata": {},
   "outputs": [],
   "source": [
    "def save_pickle(obj, obj_path):\n",
    "    obj_file = open(obj_path, \"wb\")\n",
    "    pickle.dump(obj, obj_file)\n",
    "    obj_file.close()"
   ]
  },
  {
   "cell_type": "code",
   "execution_count": 16,
   "metadata": {},
   "outputs": [],
   "source": [
    "path = '/Users/v_yinyihang/Desktop/yihang/Baidu_MM/BM-NAS/final_exp/ntu/search-C128_L8_N2_S2_NS2_NM2_drpt0.2-20200924-204321/best/best_genotype.pkl'"
   ]
  },
  {
   "cell_type": "code",
   "execution_count": 17,
   "metadata": {},
   "outputs": [
    {
     "data": {
      "text/plain": [
       "Genotype(edges=[('skip', 2), ('skip', 7), ('skip', 2), ('skip', 3)], steps=[StepGenotype(inner_edges=[('skip', 0), ('skip', 1), ('skip', 2), ('skip', 0)], inner_steps=['LinearGLU', 'LinearGLU'], inner_concat=[2, 3]), StepGenotype(inner_edges=[('skip', 0), ('skip', 1), ('skip', 2), ('skip', 0)], inner_steps=['ScaleDotAttn', 'ScaleDotAttn'], inner_concat=[2, 3])], concat=[8, 9])"
      ]
     },
     "execution_count": 17,
     "metadata": {},
     "output_type": "execute_result"
    }
   ],
   "source": [
    "a"
   ]
  },
  {
   "cell_type": "code",
   "execution_count": 18,
   "metadata": {},
   "outputs": [],
   "source": [
    "save_pickle(a, path)"
   ]
  },
  {
   "cell_type": "code",
   "execution_count": 19,
   "metadata": {},
   "outputs": [],
   "source": [
    "import utils"
   ]
  },
  {
   "cell_type": "code",
   "execution_count": 24,
   "metadata": {},
   "outputs": [],
   "source": [
    "path = '/Users/v_yinyihang/Desktop/yihang/Baidu_MM/BM-NAS/best_exp/ntu/search-node_mul2_skip_v4_2step_C128-20200924-204321/best/best_genotype.pkl'"
   ]
  },
  {
   "cell_type": "code",
   "execution_count": 26,
   "metadata": {},
   "outputs": [
    {
     "ename": "ModuleNotFoundError",
     "evalue": "No module named 'models'",
     "output_type": "error",
     "traceback": [
      "\u001b[0;31m---------------------------------------------------------------------------\u001b[0m",
      "\u001b[0;31mModuleNotFoundError\u001b[0m                       Traceback (most recent call last)",
      "\u001b[0;32m<ipython-input-26-9ab2fda4397b>\u001b[0m in \u001b[0;36m<module>\u001b[0;34m()\u001b[0m\n\u001b[0;32m----> 1\u001b[0;31m \u001b[0;32mimport\u001b[0m \u001b[0mmodels\u001b[0m\u001b[0;34m\u001b[0m\u001b[0;34m\u001b[0m\u001b[0m\n\u001b[0m",
      "\u001b[0;31mModuleNotFoundError\u001b[0m: No module named 'models'"
     ]
    }
   ],
   "source": [
    "import models"
   ]
  },
  {
   "cell_type": "code",
   "execution_count": 27,
   "metadata": {},
   "outputs": [
    {
     "ename": "ModuleNotFoundError",
     "evalue": "No module named 'models'",
     "output_type": "error",
     "traceback": [
      "\u001b[0;31m---------------------------------------------------------------------------\u001b[0m",
      "\u001b[0;31mModuleNotFoundError\u001b[0m                       Traceback (most recent call last)",
      "\u001b[0;32m<ipython-input-27-4cbbd32ed940>\u001b[0m in \u001b[0;36m<module>\u001b[0;34m()\u001b[0m\n\u001b[0;32m----> 1\u001b[0;31m \u001b[0mutils\u001b[0m\u001b[0;34m.\u001b[0m\u001b[0mload_pickle\u001b[0m\u001b[0;34m(\u001b[0m\u001b[0mpath\u001b[0m\u001b[0;34m)\u001b[0m\u001b[0;34m\u001b[0m\u001b[0;34m\u001b[0m\u001b[0m\n\u001b[0m",
      "\u001b[0;32m~/Desktop/yihang/Baidu_MM/BM-NAS/models/search/darts/utils.py\u001b[0m in \u001b[0;36mload_pickle\u001b[0;34m(obj_path)\u001b[0m\n\u001b[1;32m    105\u001b[0m \u001b[0;34m\u001b[0m\u001b[0m\n\u001b[1;32m    106\u001b[0m \u001b[0;32mdef\u001b[0m \u001b[0mload_pickle\u001b[0m\u001b[0;34m(\u001b[0m\u001b[0mobj_path\u001b[0m\u001b[0;34m)\u001b[0m\u001b[0;34m:\u001b[0m\u001b[0;34m\u001b[0m\u001b[0;34m\u001b[0m\u001b[0m\n\u001b[0;32m--> 107\u001b[0;31m     \u001b[0mobj_file\u001b[0m \u001b[0;34m=\u001b[0m \u001b[0mopen\u001b[0m\u001b[0;34m(\u001b[0m\u001b[0mobj_path\u001b[0m\u001b[0;34m,\u001b[0m \u001b[0;34m\"rb\"\u001b[0m\u001b[0;34m)\u001b[0m\u001b[0;34m\u001b[0m\u001b[0;34m\u001b[0m\u001b[0m\n\u001b[0m\u001b[1;32m    108\u001b[0m     \u001b[0mobj\u001b[0m \u001b[0;34m=\u001b[0m \u001b[0mpickle\u001b[0m\u001b[0;34m.\u001b[0m\u001b[0mload\u001b[0m\u001b[0;34m(\u001b[0m\u001b[0mobj_file\u001b[0m\u001b[0;34m)\u001b[0m\u001b[0;34m\u001b[0m\u001b[0;34m\u001b[0m\u001b[0m\n\u001b[1;32m    109\u001b[0m     \u001b[0mobj_file\u001b[0m\u001b[0;34m.\u001b[0m\u001b[0mclose\u001b[0m\u001b[0;34m(\u001b[0m\u001b[0;34m)\u001b[0m\u001b[0;34m\u001b[0m\u001b[0;34m\u001b[0m\u001b[0m\n",
      "\u001b[0;31mModuleNotFoundError\u001b[0m: No module named 'models'"
     ]
    }
   ],
   "source": [
    "utils.load_pickle(path)"
   ]
  },
  {
   "cell_type": "code",
   "execution_count": null,
   "metadata": {},
   "outputs": [],
   "source": []
  },
  {
   "cell_type": "code",
   "execution_count": null,
   "metadata": {},
   "outputs": [],
   "source": []
  }
 ],
 "metadata": {
  "kernelspec": {
   "display_name": "Python 3 (ipykernel)",
   "language": "python",
   "name": "python3"
  },
  "language_info": {
   "codemirror_mode": {
    "name": "ipython",
    "version": 3
   },
   "file_extension": ".py",
   "mimetype": "text/x-python",
   "name": "python",
   "nbconvert_exporter": "python",
   "pygments_lexer": "ipython3",
   "version": "3.9.9"
  }
 },
 "nbformat": 4,
 "nbformat_minor": 2
}
